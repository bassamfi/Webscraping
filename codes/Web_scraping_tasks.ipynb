{
  "nbformat": 4,
  "nbformat_minor": 0,
  "metadata": {
    "colab": {
      "provenance": []
    },
    "kernelspec": {
      "name": "python3",
      "display_name": "Python 3"
    },
    "language_info": {
      "name": "python"
    }
  },
  "cells": [
    {
      "cell_type": "markdown",
      "source": [
        "#Task 1"
      ],
      "metadata": {
        "id": "xwtogG26mc4t"
      }
    },
    {
      "cell_type": "code",
      "source": [
        "import requests\n",
        "from bs4 import BeautifulSoup\n",
        "import csv\n",
        "url='https://baraasalout.github.io/test.html'\n",
        "response=requests.get(url)\n",
        "response.text\n",
        "soup= BeautifulSoup(response.text,'html.parser')\n",
        "h1=soup.find_all('h1')\n",
        "h2=soup.find_all('h2')\n",
        "p=soup.find_all('p')\n",
        "li=soup.find_all('li')\n",
        "with open('task1.csv', 'w', encoding='UTF8', newline='') as f:\n",
        "    writer = csv.writer(f)\n",
        "    header=['content','type']\n",
        "    # write the header\n",
        "    writer.writerow(header)\n",
        "    for i in h1:\n",
        "       t=i.get_text()\n",
        "       writer.writerow([t,'heading'])\n",
        "    for i in h2:\n",
        "       t=i.get_text()\n",
        "       writer.writerow([t,'heading'])\n",
        "    for i in p:\n",
        "       t=i.get_text()\n",
        "       writer.writerow([t,'paragraph'])\n",
        "    for i in li:\n",
        "       t=i.get_text()\n",
        "       writer.writerow([t,'list'])\n",
        "\n"
      ],
      "metadata": {
        "id": "RwkXNIhNmqLZ"
      },
      "execution_count": null,
      "outputs": []
    },
    {
      "cell_type": "markdown",
      "source": [
        "#Task2"
      ],
      "metadata": {
        "id": "S4SUtxhA5I7S"
      }
    },
    {
      "cell_type": "code",
      "source": [
        "import requests\n",
        "from bs4 import BeautifulSoup\n",
        "url='https://baraasalout.github.io/test.html'\n",
        "response= requests.get(url)\n",
        "response.text\n",
        "soup= BeautifulSoup(response.text,'html.parser')\n",
        "t=soup.find_all('table')\n",
        "tex=[]\n",
        "with open('task2.csv', 'w', encoding='UTF8', newline='') as f:\n",
        "    writer = csv.writer(f)\n",
        "\n",
        "    for i in t:\n",
        "     tr=i.find_all('tr')\n",
        "     for j in tr:\n",
        "        tex2=j.find_all(['td','th'])\n",
        "        tex=[]\n",
        "        for k in tex2:\n",
        "          tt=k.get_text(strip=True)\n",
        "          tex.append(tt)\n",
        "        writer.writerow(tex)"
      ],
      "metadata": {
        "id": "kNzkd9cYo2RL"
      },
      "execution_count": null,
      "outputs": []
    },
    {
      "cell_type": "markdown",
      "source": [
        "#Task 3"
      ],
      "metadata": {
        "id": "cPNLEADkHMf4"
      }
    },
    {
      "cell_type": "code",
      "source": [
        "import json\n",
        "import requests\n",
        "from bs4 import BeautifulSoup\n",
        "url='https://baraasalout.github.io/test.html'\n",
        "response=requests.get(url)\n",
        "soup=BeautifulSoup(response.text,'html.parser')\n",
        "divs=soup.find_all('div',attrs={'class':'book-products'})\n",
        "tex=[]\n",
        "for i in divs:\n",
        "  button=i.find('button')\n",
        "  p=i.find_all(['p'])\n",
        "  for j in p:\n",
        "      Name=j.find('strong')\n",
        "      if Name==None:\n",
        "        tex2=j.get_text(strip=True)\n",
        "        if tex2!= '✔ In stock' or 'Out stock':\n",
        "          price=tex2\n",
        "        else:\n",
        "          ava=tex2\n",
        "      if Name:\n",
        "        data={'Name':Name.get_text(strip=True),'Price':price,'Avilabilty':ava,'button':button.get_text(strip=True)}\n",
        "        tex.append(data)\n",
        "print(tex)\n",
        "with open('task3.json', 'w', encoding='UTF8', newline='') as f:\n",
        "      json.dump(tex, f, ensure_ascii=False, indent=4)\n"
      ],
      "metadata": {
        "id": "Hl8FiCu05pUm",
        "colab": {
          "base_uri": "https://localhost:8080/"
        },
        "outputId": "1bab6ad5-921e-4fa3-c409-da59bc2b0309"
      },
      "execution_count": null,
      "outputs": [
        {
          "output_type": "stream",
          "name": "stdout",
          "text": [
            "[{'Name': 'Sharp Objects', 'Price': 'Out stock', 'Avilabilty': '£47.82', 'button': 'Add to basket'}, {'Name': 'In a Dark, Dark Wood', 'Price': '✔ In stock', 'Avilabilty': '£47.82', 'button': 'Add to basket'}, {'Name': 'The Past Never Ends', 'Price': '✔ In stock', 'Avilabilty': '£47.82', 'button': 'Add to basket'}, {'Name': 'A Murder in Time', 'Price': '✔ In stock', 'Avilabilty': '£47.82', 'button': 'Add to basket'}]\n"
          ]
        }
      ]
    },
    {
      "cell_type": "markdown",
      "source": [
        "#Task 4"
      ],
      "metadata": {
        "id": "3ICgp2jDVD2B"
      }
    },
    {
      "cell_type": "code",
      "source": [
        "import requests\n",
        "from bs4 import BeautifulSoup\n",
        "import json\n",
        "url='https://baraasalout.github.io/test.html'\n",
        "response=requests.get(url)\n",
        "soup=BeautifulSoup(response.text,'html.parser')\n",
        "form=soup.find_all('form')\n",
        "mylist=[]\n",
        "for i in form:\n",
        "  tex=i.find_all(['input'])\n",
        "  for j in tex:\n",
        "    Input=j.get(\"id\")\n",
        "    types=j.get(\"type\")\n",
        "    if (Input==None and types=='checkbox'):\n",
        "      Input= \"Terms\"\n",
        "    elif((Input==None and types=='submit')):\n",
        "      Input= \"submit\"\n",
        "\n",
        "    data={'Input':Input,'types':types}\n",
        "    mylist.append(data)\n",
        "print(mylist)\n",
        "\n",
        "with open('task4.json', 'w', encoding='UTF8', newline='') as f:\n",
        "      json.dump(mylist, f, ensure_ascii=False, indent=4)\n"
      ],
      "metadata": {
        "id": "zxM5NpptHVbR",
        "colab": {
          "base_uri": "https://localhost:8080/"
        },
        "outputId": "7399c976-d7b1-40b5-ed43-12045eef95c9"
      },
      "execution_count": 20,
      "outputs": [
        {
          "output_type": "stream",
          "name": "stdout",
          "text": [
            "[<input id=\"username\" name=\"username\" placeholder=\"Enter your username\" type=\"text\"/>, <input id=\"password\" name=\"password\" placeholder=\"Enter your password\" type=\"password\"/>, <input name=\"terms\" type=\"checkbox\"/>, <input type=\"submit\" value=\"Submit\"/>]\n",
            "[{'Input': 'username', 'types': 'text'}, {'Input': 'password', 'types': 'password'}, {'Input': 'Terms', 'types': 'checkbox'}, {'Input': 'submit', 'types': 'submit'}]\n"
          ]
        }
      ]
    },
    {
      "cell_type": "markdown",
      "source": [
        "#Task 5"
      ],
      "metadata": {
        "id": "WfSnZIvDnev_"
      }
    },
    {
      "cell_type": "code",
      "source": [
        "import requests\n",
        "from bs4 import BeautifulSoup\n",
        "import json\n",
        "url='https://baraasalout.github.io/test.html'\n",
        "response=requests.get(url)\n",
        "soup=BeautifulSoup(response.text,'html.parser')\n",
        "fir=soup.find_all('iframe')\n",
        "mylist1=[]\n",
        "for i in fir:\n",
        "  src=i.get(\"src\")\n",
        "  print(src)\n",
        "  data={\"Link\":src}\n",
        "  mylist1.append(data)\n",
        "  with open('task5.json', 'w', encoding='UTF8', newline='') as f:\n",
        "      json.dump(mylist1, f, ensure_ascii=False, indent=4)\n"
      ],
      "metadata": {
        "id": "hPs8TIJrVxVE",
        "colab": {
          "base_uri": "https://localhost:8080/"
        },
        "outputId": "a69b3808-39b8-448b-8006-e9557a8eca4a"
      },
      "execution_count": 24,
      "outputs": [
        {
          "output_type": "stream",
          "name": "stdout",
          "text": [
            "https://www.youtube.com/embed/ujf9RNuBdCU\n"
          ]
        }
      ]
    },
    {
      "cell_type": "markdown",
      "source": [
        "#Task 6"
      ],
      "metadata": {
        "id": "uHcR3XOSpvej"
      }
    },
    {
      "cell_type": "code",
      "source": [
        "import requests\n",
        "from bs4 import BeautifulSoup\n",
        "import json\n",
        "url='https://baraasalout.github.io/test.html'\n",
        "response=requests.get(url)\n",
        "soup=BeautifulSoup(response.text,'html.parser')\n",
        "productsf=soup.find_all('div',attrs={'class':\"products\"})\n",
        "mylist=[]\n",
        "for i in productsf:\n",
        "\n",
        "  cards=i.find_all('div',attrs={'class':\"product-card\"})\n",
        "  for j in cards:\n",
        "    id =j.get(\"data-id\")\n",
        "    print(id)\n",
        "    names=j.find_all('p',attrs={'class':\"name\"})\n",
        "    prices=j.find_all('p', attrs= {\"class\":\"price\"})\n",
        "    colours=j.find_all('p', attrs= {\"class\":\"colors\"})\n",
        "    for k in names:\n",
        "      name=k.get_text(strip=True)\n",
        "      print(name)\n",
        "    for l in prices:\n",
        "      pricess=l.getText(strip=True)\n",
        "      print(pricess)\n",
        "    for z in colours:\n",
        "      co=z.getText(strip=True)\n",
        "      print(co)\n",
        "    data={\"ID\":id,\"Name\":name,\"prices\":pricess,\"colors\":co}\n",
        "    mylist.append(data)\n",
        "    with open('task6.json', 'w', encoding='UTF8', newline='') as f:\n",
        "      json.dump(mylist, f, ensure_ascii=False, indent=4)\n"
      ],
      "metadata": {
        "colab": {
          "base_uri": "https://localhost:8080/"
        },
        "id": "hNNuy7m1oRCT",
        "outputId": "83a288fd-8e21-4ffe-8ad1-653a50522f5c"
      },
      "execution_count": 58,
      "outputs": [
        {
          "output_type": "stream",
          "name": "stdout",
          "text": [
            "101\n",
            "Wireless Headphones\n",
            "$49.99\n",
            "Available colors: Black, White, Blue\n",
            "102\n",
            "Smart Speaker\n",
            "$89.99\n",
            "Available colors: Grey, Black\n",
            "103\n",
            "Smart Watch\n",
            "$149.99\n",
            "Available colors: Black, Silver, Gold\n"
          ]
        }
      ]
    },
    {
      "cell_type": "code",
      "source": [],
      "metadata": {
        "id": "Yq3bEj7qreVa"
      },
      "execution_count": null,
      "outputs": []
    }
  ]
}